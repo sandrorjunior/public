{
  "cells": [
    {
      "cell_type": "markdown",
      "metadata": {
        "id": "view-in-github",
        "colab_type": "text"
      },
      "source": [
        "<a href=\"https://colab.research.google.com/github/sandrorjunior/public/blob/main/tcc_pucrs_r00.ipynb\" target=\"_parent\"><img src=\"https://colab.research.google.com/assets/colab-badge.svg\" alt=\"Open In Colab\"/></a>"
      ]
    },
    {
      "cell_type": "markdown",
      "metadata": {
        "id": "1u5-2vbEkFHp"
      },
      "source": [
        "1. Importar bibliotecas que serão utilizadas"
      ]
    },
    {
      "cell_type": "code",
      "execution_count": null,
      "metadata": {
        "id": "v07jKrqGj9Kv"
      },
      "outputs": [],
      "source": [
        "import requests\n",
        "import zipfile\n",
        "import io\n",
        "import pandas as pd\n",
        "from google.colab import files\n",
        "import plotly.graph_objects as go\n",
        "import datetime\n"
      ]
    },
    {
      "cell_type": "markdown",
      "metadata": {
        "id": "QgJvH9Phkq24"
      },
      "source": [
        "2. Baixar do servidor online dados atualizados"
      ]
    },
    {
      "cell_type": "code",
      "execution_count": null,
      "metadata": {
        "id": "3FnFCPJGkzd9"
      },
      "outputs": [],
      "source": [
        "#configuracoes para o csv extraido\n",
        "pd.set_option('display.float_format', '{:.2f}'.format)\n",
        "\n",
        "# URL do arquivo zip\n",
        "url = \"https://repositorio.dados.gov.br/seges/detru/siconv.zip\"\n",
        "\n",
        "# Faz o download do arquivo zip\n",
        "response = requests.get(url)\n",
        "zip_file = zipfile.ZipFile(io.BytesIO(response.content))\n",
        "# Lista de arquivos no zip\n",
        "file_names = zip_file.namelist()\n",
        "\n",
        "# Diretório de destino para salvar os arquivos\n",
        "destination_dir = \"/content/zip_files/\"\n",
        "\n",
        "# Extrai cada arquivo do zip e salva no diretório de destino\n",
        "for file_name in file_names:\n",
        "    zip_file.extract(file_name, destination_dir)"
      ]
    },
    {
      "cell_type": "markdown",
      "metadata": {
        "id": "p4o4pKPmk4PF"
      },
      "source": [
        "**3**. Transformar csvs que serão utilizados em dataframes panda"
      ]
    },
    {
      "cell_type": "code",
      "execution_count": null,
      "metadata": {
        "id": "CVSWG5ORlCof"
      },
      "outputs": [],
      "source": [
        "#funcao para extrair dataframes\n",
        "def extrair_df(file_name):\n",
        "    # Diretório de destino\n",
        "    destination_dir = \"/content/zip_files/\"\n",
        "\n",
        "    # Caminho completo do arquivo CSV\n",
        "    csv_file_path = destination_dir + file_name\n",
        "\n",
        "    # Carrega o arquivo CSV em um DataFrame\n",
        "    df = pd.read_csv(csv_file_path, sep=';')\n",
        "\n",
        "    # Retorna o DataFrame\n",
        "    return df"
      ]
    },
    {
      "cell_type": "code",
      "source": [
        "#extrairdataframes\n",
        "convenio = extrair_df(\"siconv_convenio.csv\")\n",
        "proposta = extrair_df(\"siconv_proposta.csv\")\n",
        "inst_cont_proposta_aio_modulo_empresas = extrair_df(\"siconv_inst_cont_proposta_aio_modulo_empresas.csv\")\n",
        "vrpl_proposta_licitacao_modulo_empresas = extrair_df(\"siconv_vrpl_proposta_licitacao_modulo_empresas.csv\")\n",
        "historico_situacao = extrair_df(\"siconv_historico_situacao.csv\")\n",
        "\n",
        "historico_situacao['DIA_HISTORICO_SIT'] = pd.to_datetime(historico_situacao['DIA_HISTORICO_SIT'], dayfirst=True, errors='coerce')"
      ],
      "metadata": {
        "id": "ccguiYz_LgK9"
      },
      "execution_count": null,
      "outputs": []
    },
    {
      "cell_type": "code",
      "source": [
        "#criar dataframes com dia de pcf a partir do df historico_situacao\n",
        "data_pcf = historico_situacao\n",
        "data_pcf = data_pcf.loc[data_pcf['HISTORICO_SIT'] == \"PRESTACAO_CONTAS_CONCLUIDA\"]\n",
        "data_pcf = data_pcf.groupby('ID_PROPOSTA')['DIA_HISTORICO_SIT'].max().reset_index()\n",
        "data_pcf = data_pcf.rename(columns={'DIA_HISTORICO_SIT': 'DIA_PCF'})\n",
        "\n",
        "# Agora a coluna 'DIA_HISTORICO_SIT' será renomeada para 'DIA_PCF' em df1.\n",
        "\n",
        "#criar dataframe com ultimo_dia_historico\n",
        "# Primeiro, você precisa agrupar o DataFrame historico por 'ID_PROPOSTA' e encontrar a data máxima para cada grupo.\n",
        "ultimo_dia_historico = historico_situacao\n",
        "ultimo_dia_historico = ultimo_dia_historico.dropna(subset=['DIA_HISTORICO_SIT'])\n",
        "ultimo_dia_historico = ultimo_dia_historico.groupby('ID_PROPOSTA')['DIA_HISTORICO_SIT'].max().reset_index()\n",
        "ultimo_dia_historico = ultimo_dia_historico.rename(columns={'DIA_HISTORICO_SIT': 'ULTIMO_DIA_HISTORICO_SIT'})\n",
        "\n",
        "\n"
      ],
      "metadata": {
        "id": "KcFjs5pVRtHl"
      },
      "execution_count": null,
      "outputs": []
    },
    {
      "cell_type": "markdown",
      "source": [
        "4. Criar dataframe final pro estudo de prazos"
      ],
      "metadata": {
        "id": "tWH_ABzNatsw"
      }
    },
    {
      "cell_type": "code",
      "source": [
        "#criar df1 com as colunas relevantes para o estudo de prazo dos contratos\n",
        "\n",
        "# Selecione as colunas que você deseja em df1\n",
        "cols_convenio = ['NR_CONVENIO', 'ID_PROPOSTA', 'DIA_ASSIN_CONV', 'SIT_CONVENIO', 'INSTRUMENTO_ATIVO', 'VL_GLOBAL_CONV', 'VL_REPASSE_CONV', 'VL_CONTRAPARTIDA_CONV', 'DATA_SUSPENSIVA', 'DATA_RETIRADA_SUSPENSIVA', 'DIA_FIM_VIGENC_CONV']\n",
        "cols_proposta = ['ID_PROPOSTA', 'UF_PROPONENTE', 'MUNIC_PROPONENTE', 'COD_MUNIC_IBGE', 'COD_ORGAO_SUP', 'DIA_PROPOSTA', 'MODALIDADE', 'OBJETO_PROPOSTA']\n",
        "cols_inst_cont_proposta = ['ID_PROPOSTA', 'DATA_EMISSAO_AIO_INSTRUMENTO_CONTRATUAL']\n",
        "cols_vrpl_proposta = ['ID_PROPOSTA', 'DATA_ACEITE_LICITACAO_VRPL']\n",
        "cols_data_pcf = ['ID_PROPOSTA', 'DIA_PCF']\n",
        "cols_ultimo_dia_historico = ['ID_PROPOSTA', 'ULTIMO_DIA_HISTORICO_SIT']\n",
        "\n",
        "# Combine os DataFrames\n",
        "df1 = convenio[cols_convenio]\n",
        "df1 = pd.merge(df1, proposta[cols_proposta], on='ID_PROPOSTA', how='left')\n",
        "df1 = pd.merge(df1, inst_cont_proposta_aio_modulo_empresas[cols_inst_cont_proposta], on='ID_PROPOSTA', how='left')\n",
        "df1 = pd.merge(df1, vrpl_proposta_licitacao_modulo_empresas[cols_vrpl_proposta], on='ID_PROPOSTA', how='left')\n",
        "df1 = pd.merge(df1, data_pcf[cols_data_pcf], on='ID_PROPOSTA', how='left')\n",
        "df1 = pd.merge(df1, ultimo_dia_historico[cols_ultimo_dia_historico], on='ID_PROPOSTA', how='left')\n",
        "\n",
        "#apenas modalidade contrato de repasse\n",
        "df1 = df1[df1['MODALIDADE'] == 'CONTRATO DE REPASSE']\n",
        "\n",
        "#converter tipos de variáveis\n",
        "colunas_datetime = ['DIA_ASSIN_CONV', 'DATA_SUSPENSIVA', 'DATA_RETIRADA_SUSPENSIVA', 'DIA_FIM_VIGENC_CONV', 'DIA_PROPOSTA', 'DATA_EMISSAO_AIO_INSTRUMENTO_CONTRATUAL', 'DATA_ACEITE_LICITACAO_VRPL']\n",
        "df1[colunas_datetime] = df1[colunas_datetime].apply(pd.to_datetime, errors='coerce')\n",
        "colunas_float = ['VL_GLOBAL_CONV', 'VL_REPASSE_CONV', 'VL_CONTRAPARTIDA_CONV']\n",
        "df1[colunas_float] = df1[colunas_float].apply(pd.to_numeric, errors='coerce')\n",
        "\n",
        "#coluna data de encerramento\n",
        "df1['INSTRUMENTO_ATIVO'] = df1['INSTRUMENTO_ATIVO'].str.strip()\n",
        "def calcular_data_encerramento(row):\n",
        "    if row['INSTRUMENTO_ATIVO'] == 'NÃO':\n",
        "        return row['ULTIMO_DIA_HISTORICO_SIT']\n",
        "    else:\n",
        "        return pd.NaT  # Isso representa um valor nulo em Pandas\n",
        "# Aplicando a função à coluna 'DATA_ENCERRAMENTO'\n",
        "df1['DATA_ENCERRAMENTO'] = df1.apply(calcular_data_encerramento, axis=1)\n",
        "\n",
        "#criar colunas de status para fazer o diagrama\n",
        "df1['STATUS_ASSINATURA'] = df1['DIA_ASSIN_CONV'].apply(lambda x: 'Contrato assinado' if pd.notna(x) else 'Contrato não assinado')\n",
        "# Exclude rows where 'STATUS_ASSINATURA' is equal to 'Contrato não assinado'\n",
        "df1 = df1[df1['STATUS_ASSINATURA'] != 'Contrato não assinado']\n",
        "def calcular_status(row):\n",
        "    if row['SIT_CONVENIO'] in ['Cancelado', 'Convênio Anulado', 'Convênio Rescindido', 'Prestação de Contas Rejeitada']:\n",
        "        return 'Finalizado sem sucesso'\n",
        "    elif pd.notna(row['DATA_ENCERRAMENTO']):\n",
        "        return 'Finalizado com sucesso'\n",
        "    elif row['STATUS_ASSINATURA'] == 'Contrato não assinado':\n",
        "        return 'Contrato a assinar'\n",
        "    else:\n",
        "        return 'Contrato em andamento'\n",
        "df1['STATUS_FINALIZACAO'] = df1.apply(calcular_status, axis=1)\n",
        "hoje = datetime.datetime.now()\n",
        "def calcular_status_suspensiva(row):\n",
        "    if row['STATUS_FINALIZACAO'] == 'Contrato a assinar':\n",
        "        return 'Contrato a assinar '\n",
        "    elif pd.notna(row['DATA_RETIRADA_SUSPENSIVA']):\n",
        "        return 'Suspensiva retirada'\n",
        "    elif pd.notna(row['DATA_SUSPENSIVA']) and row['DATA_SUSPENSIVA'] < hoje:\n",
        "        return 'Prazo de suspensiva perdido'\n",
        "    elif row['DATA_SUSPENSIVA'] >= hoje and row['STATUS_FINALIZACAO'] == 'Contrato em andamento':\n",
        "        return 'Aguarda retirada de suspensiva'\n",
        "    elif row['STATUS_FINALIZACAO'] == 'Finalizado sem sucesso':\n",
        "        return 'Finalizado sem sucesso '\n",
        "    else:\n",
        "        return 'Sem info de Suspensiva'\n",
        "df1['STATUS_SUSPENSIVA'] = df1.apply(calcular_status_suspensiva, axis=1)\n",
        "def calcular_status_vrpl(row):\n",
        "    if row['STATUS_FINALIZACAO'] == 'Contrato a assinar':\n",
        "        return 'Contrato a assinar  '\n",
        "    elif pd.to_datetime(row['DATA_RETIRADA_SUSPENSIVA']) > pd.to_datetime('2019-01-01') and pd.isna(row['DATA_ACEITE_LICITACAO_VRPL']) and row['STATUS_FINALIZACAO'] == 'Contrato em andamento':\n",
        "       return 'Aguarda VRPL'\n",
        "    elif pd.notna(row['DATA_ACEITE_LICITACAO_VRPL']):\n",
        "        return 'VRPL emitida'\n",
        "    elif row['STATUS_SUSPENSIVA'] == 'Aguarda retirada de suspensiva':\n",
        "        return 'Aguarda VRPL'\n",
        "    elif row['STATUS_FINALIZACAO'] == 'Finalizado sem sucesso':\n",
        "        return 'Finalizado sem sucesso  '\n",
        "    else:\n",
        "        return 'Sem info de VRPL'\n",
        "df1['STATUS_VRPL'] = df1.apply(calcular_status_vrpl, axis=1)\n",
        "def calcular_status_aio(row):\n",
        "    if row['STATUS_FINALIZACAO'] == 'Contrato a assinar':\n",
        "        return 'Contrato a assinar   '\n",
        "    elif row['STATUS_VRPL'] == 'VRPL emitida' and pd.isna(row['DATA_EMISSAO_AIO_INSTRUMENTO_CONTRATUAL']):\n",
        "        return 'Aguarda AIO'\n",
        "    elif row['STATUS_VRPL'] == 'Aguarda VRPL':\n",
        "        return 'Aguarda AIO'\n",
        "    elif pd.notna(row['DATA_EMISSAO_AIO_INSTRUMENTO_CONTRATUAL']) and pd.notna(row['DATA_ACEITE_LICITACAO_VRPL']):\n",
        "        return 'AIO emitida'\n",
        "    elif row['STATUS_FINALIZACAO'] == 'Finalizado sem sucesso':\n",
        "        return 'Finalizado sem sucesso   '\n",
        "    else:\n",
        "        return 'Sem info de AIO'\n",
        "df1['STATUS_AIO'] = df1.apply(calcular_status_aio, axis=1)\n",
        "#limpar com contratos a assinar\n"
      ],
      "metadata": {
        "id": "FXrVogoxSaCe"
      },
      "execution_count": null,
      "outputs": []
    },
    {
      "cell_type": "markdown",
      "source": [
        "5. Criar visualização via diagrama de sankey"
      ],
      "metadata": {
        "id": "CqftC7Seba92"
      }
    },
    {
      "cell_type": "code",
      "source": [
        "#https://github.com/bhattbhavesh91/sankey-diagram-plotly-tutorial/blob/main/sankey-diagram-notebook.ipynb\n",
        "#primeiro por quantidade de operações\n",
        "#criar dataframes de origem e destino\n",
        "df2 = df1.groupby(['STATUS_ASSINATURA', 'STATUS_SUSPENSIVA'])['ID_PROPOSTA'].count().reset_index()\n",
        "df2.columns = ['source', 'target', 'value']\n",
        "df3 = df1.groupby(['STATUS_SUSPENSIVA', 'STATUS_VRPL'])['ID_PROPOSTA'].count().reset_index()\n",
        "df3.columns = ['source', 'target', 'value']\n",
        "df4 = df1.groupby(['STATUS_VRPL', 'STATUS_AIO'])['ID_PROPOSTA'].count().reset_index()\n",
        "df4.columns = ['source', 'target', 'value']\n",
        "df5 = df1.groupby(['STATUS_AIO', 'STATUS_FINALIZACAO'])['ID_PROPOSTA'].count().reset_index()\n",
        "df5.columns = ['source', 'target', 'value']\n",
        "\n",
        "links = pd.concat([df2, df3, df4, df5], axis=0)\n",
        "\n",
        "#criando lista de valores unicos de situações\n",
        "unique_source_target = list(pd.unique(links[['source', 'target']].values.ravel('K')))\n",
        "\n",
        "#criando dicionário atribuindo um número para cada valor único de situação\n",
        "mapping_dict = {k: v for v, k in enumerate(unique_source_target)}\n",
        "\n",
        "#transformando a links em valores atribuidos no dicionario\n",
        "links['source'] = links['source'].map(mapping_dict)\n",
        "links['target'] = links['target'].map(mapping_dict)\n",
        "\n",
        "#criando link em formato lista para usar no fig =\n",
        "links_dict = links.to_dict(orient='list')\n",
        "\n",
        "#criando figura\n",
        "fig = go.Figure(data=[go.Sankey(\n",
        "    node = dict(\n",
        "      pad = 15,\n",
        "      thickness = 20,\n",
        "      line = dict(color = \"black\", width = 0.5),\n",
        "      label = unique_source_target,\n",
        "      color = \"blue\"\n",
        "    ),\n",
        "    link = dict(\n",
        "      source = links_dict[\"source\"],\n",
        "      target = links_dict[\"target\"],\n",
        "      value = links_dict[\"value\"]\n",
        "\n",
        "  ))])\n",
        "\n",
        "\n",
        "\n",
        "# Customize the layout of the Sankey diagram, including the title\n",
        "fig.update_layout(\n",
        "    title_text=\"Diagrama de Sankey - Contratos de Repassse no portal TrasfereGOV - Quantidade de operações\",\n",
        "    font_size=10,\n",
        ")\n",
        "\n",
        "fig.show()\n",
        "\n"
      ],
      "metadata": {
        "id": "Hvkb61WYQ1py",
        "colab": {
          "base_uri": "https://localhost:8080/",
          "height": 542
        },
        "outputId": "f41db1f7-d543-4a2e-a3e4-059b9173b7ba"
      },
      "execution_count": null,
      "outputs": [
        {
          "output_type": "display_data",
          "data": {
            "text/html": [
              "<html>\n",
              "<head><meta charset=\"utf-8\" /></head>\n",
              "<body>\n",
              "    <div>            <script src=\"https://cdnjs.cloudflare.com/ajax/libs/mathjax/2.7.5/MathJax.js?config=TeX-AMS-MML_SVG\"></script><script type=\"text/javascript\">if (window.MathJax && window.MathJax.Hub && window.MathJax.Hub.Config) {window.MathJax.Hub.Config({SVG: {font: \"STIX-Web\"}});}</script>                <script type=\"text/javascript\">window.PlotlyConfig = {MathJaxConfig: 'local'};</script>\n",
              "        <script charset=\"utf-8\" src=\"https://cdn.plot.ly/plotly-2.24.1.min.js\"></script>                <div id=\"41fe4e8c-b5e5-456d-af1c-b0221a56ef81\" class=\"plotly-graph-div\" style=\"height:525px; width:100%;\"></div>            <script type=\"text/javascript\">                                    window.PLOTLYENV=window.PLOTLYENV || {};                                    if (document.getElementById(\"41fe4e8c-b5e5-456d-af1c-b0221a56ef81\")) {                    Plotly.newPlot(                        \"41fe4e8c-b5e5-456d-af1c-b0221a56ef81\",                        [{\"link\":{\"source\":[0,0,0,0,0,1,2,3,3,4,4,5,5,5,5,6,7,8,9,9,10,10,10,11,11,11,12,13,13],\"target\":[1,2,3,4,5,6,7,7,8,8,9,6,7,8,9,11,12,13,10,11,14,15,16,14,15,16,16,14,15],\"value\":[4107,519,9907,12422,82168,4107,519,9806,101,12407,15,5444,2911,61888,11925,9551,13236,74396,9227,2713,6340,2882,5,12158,69,37,13236,2635,71761]},\"node\":{\"color\":\"blue\",\"label\":[\"Contrato assinado\",\"Aguarda retirada de suspensiva\",\"Finalizado sem sucesso \",\"Prazo de suspensiva perdido\",\"Sem info de Suspensiva\",\"Suspensiva retirada\",\"Aguarda VRPL\",\"Finalizado sem sucesso  \",\"Sem info de VRPL\",\"VRPL emitida\",\"AIO emitida\",\"Aguarda AIO\",\"Finalizado sem sucesso   \",\"Sem info de AIO\",\"Contrato em andamento\",\"Finalizado com sucesso\",\"Finalizado sem sucesso\"],\"line\":{\"color\":\"black\",\"width\":0.5},\"pad\":15,\"thickness\":20},\"type\":\"sankey\"}],                        {\"template\":{\"data\":{\"histogram2dcontour\":[{\"type\":\"histogram2dcontour\",\"colorbar\":{\"outlinewidth\":0,\"ticks\":\"\"},\"colorscale\":[[0.0,\"#0d0887\"],[0.1111111111111111,\"#46039f\"],[0.2222222222222222,\"#7201a8\"],[0.3333333333333333,\"#9c179e\"],[0.4444444444444444,\"#bd3786\"],[0.5555555555555556,\"#d8576b\"],[0.6666666666666666,\"#ed7953\"],[0.7777777777777778,\"#fb9f3a\"],[0.8888888888888888,\"#fdca26\"],[1.0,\"#f0f921\"]]}],\"choropleth\":[{\"type\":\"choropleth\",\"colorbar\":{\"outlinewidth\":0,\"ticks\":\"\"}}],\"histogram2d\":[{\"type\":\"histogram2d\",\"colorbar\":{\"outlinewidth\":0,\"ticks\":\"\"},\"colorscale\":[[0.0,\"#0d0887\"],[0.1111111111111111,\"#46039f\"],[0.2222222222222222,\"#7201a8\"],[0.3333333333333333,\"#9c179e\"],[0.4444444444444444,\"#bd3786\"],[0.5555555555555556,\"#d8576b\"],[0.6666666666666666,\"#ed7953\"],[0.7777777777777778,\"#fb9f3a\"],[0.8888888888888888,\"#fdca26\"],[1.0,\"#f0f921\"]]}],\"heatmap\":[{\"type\":\"heatmap\",\"colorbar\":{\"outlinewidth\":0,\"ticks\":\"\"},\"colorscale\":[[0.0,\"#0d0887\"],[0.1111111111111111,\"#46039f\"],[0.2222222222222222,\"#7201a8\"],[0.3333333333333333,\"#9c179e\"],[0.4444444444444444,\"#bd3786\"],[0.5555555555555556,\"#d8576b\"],[0.6666666666666666,\"#ed7953\"],[0.7777777777777778,\"#fb9f3a\"],[0.8888888888888888,\"#fdca26\"],[1.0,\"#f0f921\"]]}],\"heatmapgl\":[{\"type\":\"heatmapgl\",\"colorbar\":{\"outlinewidth\":0,\"ticks\":\"\"},\"colorscale\":[[0.0,\"#0d0887\"],[0.1111111111111111,\"#46039f\"],[0.2222222222222222,\"#7201a8\"],[0.3333333333333333,\"#9c179e\"],[0.4444444444444444,\"#bd3786\"],[0.5555555555555556,\"#d8576b\"],[0.6666666666666666,\"#ed7953\"],[0.7777777777777778,\"#fb9f3a\"],[0.8888888888888888,\"#fdca26\"],[1.0,\"#f0f921\"]]}],\"contourcarpet\":[{\"type\":\"contourcarpet\",\"colorbar\":{\"outlinewidth\":0,\"ticks\":\"\"}}],\"contour\":[{\"type\":\"contour\",\"colorbar\":{\"outlinewidth\":0,\"ticks\":\"\"},\"colorscale\":[[0.0,\"#0d0887\"],[0.1111111111111111,\"#46039f\"],[0.2222222222222222,\"#7201a8\"],[0.3333333333333333,\"#9c179e\"],[0.4444444444444444,\"#bd3786\"],[0.5555555555555556,\"#d8576b\"],[0.6666666666666666,\"#ed7953\"],[0.7777777777777778,\"#fb9f3a\"],[0.8888888888888888,\"#fdca26\"],[1.0,\"#f0f921\"]]}],\"surface\":[{\"type\":\"surface\",\"colorbar\":{\"outlinewidth\":0,\"ticks\":\"\"},\"colorscale\":[[0.0,\"#0d0887\"],[0.1111111111111111,\"#46039f\"],[0.2222222222222222,\"#7201a8\"],[0.3333333333333333,\"#9c179e\"],[0.4444444444444444,\"#bd3786\"],[0.5555555555555556,\"#d8576b\"],[0.6666666666666666,\"#ed7953\"],[0.7777777777777778,\"#fb9f3a\"],[0.8888888888888888,\"#fdca26\"],[1.0,\"#f0f921\"]]}],\"mesh3d\":[{\"type\":\"mesh3d\",\"colorbar\":{\"outlinewidth\":0,\"ticks\":\"\"}}],\"scatter\":[{\"fillpattern\":{\"fillmode\":\"overlay\",\"size\":10,\"solidity\":0.2},\"type\":\"scatter\"}],\"parcoords\":[{\"type\":\"parcoords\",\"line\":{\"colorbar\":{\"outlinewidth\":0,\"ticks\":\"\"}}}],\"scatterpolargl\":[{\"type\":\"scatterpolargl\",\"marker\":{\"colorbar\":{\"outlinewidth\":0,\"ticks\":\"\"}}}],\"bar\":[{\"error_x\":{\"color\":\"#2a3f5f\"},\"error_y\":{\"color\":\"#2a3f5f\"},\"marker\":{\"line\":{\"color\":\"#E5ECF6\",\"width\":0.5},\"pattern\":{\"fillmode\":\"overlay\",\"size\":10,\"solidity\":0.2}},\"type\":\"bar\"}],\"scattergeo\":[{\"type\":\"scattergeo\",\"marker\":{\"colorbar\":{\"outlinewidth\":0,\"ticks\":\"\"}}}],\"scatterpolar\":[{\"type\":\"scatterpolar\",\"marker\":{\"colorbar\":{\"outlinewidth\":0,\"ticks\":\"\"}}}],\"histogram\":[{\"marker\":{\"pattern\":{\"fillmode\":\"overlay\",\"size\":10,\"solidity\":0.2}},\"type\":\"histogram\"}],\"scattergl\":[{\"type\":\"scattergl\",\"marker\":{\"colorbar\":{\"outlinewidth\":0,\"ticks\":\"\"}}}],\"scatter3d\":[{\"type\":\"scatter3d\",\"line\":{\"colorbar\":{\"outlinewidth\":0,\"ticks\":\"\"}},\"marker\":{\"colorbar\":{\"outlinewidth\":0,\"ticks\":\"\"}}}],\"scattermapbox\":[{\"type\":\"scattermapbox\",\"marker\":{\"colorbar\":{\"outlinewidth\":0,\"ticks\":\"\"}}}],\"scatterternary\":[{\"type\":\"scatterternary\",\"marker\":{\"colorbar\":{\"outlinewidth\":0,\"ticks\":\"\"}}}],\"scattercarpet\":[{\"type\":\"scattercarpet\",\"marker\":{\"colorbar\":{\"outlinewidth\":0,\"ticks\":\"\"}}}],\"carpet\":[{\"aaxis\":{\"endlinecolor\":\"#2a3f5f\",\"gridcolor\":\"white\",\"linecolor\":\"white\",\"minorgridcolor\":\"white\",\"startlinecolor\":\"#2a3f5f\"},\"baxis\":{\"endlinecolor\":\"#2a3f5f\",\"gridcolor\":\"white\",\"linecolor\":\"white\",\"minorgridcolor\":\"white\",\"startlinecolor\":\"#2a3f5f\"},\"type\":\"carpet\"}],\"table\":[{\"cells\":{\"fill\":{\"color\":\"#EBF0F8\"},\"line\":{\"color\":\"white\"}},\"header\":{\"fill\":{\"color\":\"#C8D4E3\"},\"line\":{\"color\":\"white\"}},\"type\":\"table\"}],\"barpolar\":[{\"marker\":{\"line\":{\"color\":\"#E5ECF6\",\"width\":0.5},\"pattern\":{\"fillmode\":\"overlay\",\"size\":10,\"solidity\":0.2}},\"type\":\"barpolar\"}],\"pie\":[{\"automargin\":true,\"type\":\"pie\"}]},\"layout\":{\"autotypenumbers\":\"strict\",\"colorway\":[\"#636efa\",\"#EF553B\",\"#00cc96\",\"#ab63fa\",\"#FFA15A\",\"#19d3f3\",\"#FF6692\",\"#B6E880\",\"#FF97FF\",\"#FECB52\"],\"font\":{\"color\":\"#2a3f5f\"},\"hovermode\":\"closest\",\"hoverlabel\":{\"align\":\"left\"},\"paper_bgcolor\":\"white\",\"plot_bgcolor\":\"#E5ECF6\",\"polar\":{\"bgcolor\":\"#E5ECF6\",\"angularaxis\":{\"gridcolor\":\"white\",\"linecolor\":\"white\",\"ticks\":\"\"},\"radialaxis\":{\"gridcolor\":\"white\",\"linecolor\":\"white\",\"ticks\":\"\"}},\"ternary\":{\"bgcolor\":\"#E5ECF6\",\"aaxis\":{\"gridcolor\":\"white\",\"linecolor\":\"white\",\"ticks\":\"\"},\"baxis\":{\"gridcolor\":\"white\",\"linecolor\":\"white\",\"ticks\":\"\"},\"caxis\":{\"gridcolor\":\"white\",\"linecolor\":\"white\",\"ticks\":\"\"}},\"coloraxis\":{\"colorbar\":{\"outlinewidth\":0,\"ticks\":\"\"}},\"colorscale\":{\"sequential\":[[0.0,\"#0d0887\"],[0.1111111111111111,\"#46039f\"],[0.2222222222222222,\"#7201a8\"],[0.3333333333333333,\"#9c179e\"],[0.4444444444444444,\"#bd3786\"],[0.5555555555555556,\"#d8576b\"],[0.6666666666666666,\"#ed7953\"],[0.7777777777777778,\"#fb9f3a\"],[0.8888888888888888,\"#fdca26\"],[1.0,\"#f0f921\"]],\"sequentialminus\":[[0.0,\"#0d0887\"],[0.1111111111111111,\"#46039f\"],[0.2222222222222222,\"#7201a8\"],[0.3333333333333333,\"#9c179e\"],[0.4444444444444444,\"#bd3786\"],[0.5555555555555556,\"#d8576b\"],[0.6666666666666666,\"#ed7953\"],[0.7777777777777778,\"#fb9f3a\"],[0.8888888888888888,\"#fdca26\"],[1.0,\"#f0f921\"]],\"diverging\":[[0,\"#8e0152\"],[0.1,\"#c51b7d\"],[0.2,\"#de77ae\"],[0.3,\"#f1b6da\"],[0.4,\"#fde0ef\"],[0.5,\"#f7f7f7\"],[0.6,\"#e6f5d0\"],[0.7,\"#b8e186\"],[0.8,\"#7fbc41\"],[0.9,\"#4d9221\"],[1,\"#276419\"]]},\"xaxis\":{\"gridcolor\":\"white\",\"linecolor\":\"white\",\"ticks\":\"\",\"title\":{\"standoff\":15},\"zerolinecolor\":\"white\",\"automargin\":true,\"zerolinewidth\":2},\"yaxis\":{\"gridcolor\":\"white\",\"linecolor\":\"white\",\"ticks\":\"\",\"title\":{\"standoff\":15},\"zerolinecolor\":\"white\",\"automargin\":true,\"zerolinewidth\":2},\"scene\":{\"xaxis\":{\"backgroundcolor\":\"#E5ECF6\",\"gridcolor\":\"white\",\"linecolor\":\"white\",\"showbackground\":true,\"ticks\":\"\",\"zerolinecolor\":\"white\",\"gridwidth\":2},\"yaxis\":{\"backgroundcolor\":\"#E5ECF6\",\"gridcolor\":\"white\",\"linecolor\":\"white\",\"showbackground\":true,\"ticks\":\"\",\"zerolinecolor\":\"white\",\"gridwidth\":2},\"zaxis\":{\"backgroundcolor\":\"#E5ECF6\",\"gridcolor\":\"white\",\"linecolor\":\"white\",\"showbackground\":true,\"ticks\":\"\",\"zerolinecolor\":\"white\",\"gridwidth\":2}},\"shapedefaults\":{\"line\":{\"color\":\"#2a3f5f\"}},\"annotationdefaults\":{\"arrowcolor\":\"#2a3f5f\",\"arrowhead\":0,\"arrowwidth\":1},\"geo\":{\"bgcolor\":\"white\",\"landcolor\":\"#E5ECF6\",\"subunitcolor\":\"white\",\"showland\":true,\"showlakes\":true,\"lakecolor\":\"white\"},\"title\":{\"x\":0.05},\"mapbox\":{\"style\":\"light\"}}},\"title\":{\"text\":\"Diagrama de Sankey - Contratos de Repassse no portal TrasfereGOV - Quantidade de opera\\u00e7\\u00f5es\"},\"font\":{\"size\":10}},                        {\"responsive\": true}                    ).then(function(){\n",
              "                            \n",
              "var gd = document.getElementById('41fe4e8c-b5e5-456d-af1c-b0221a56ef81');\n",
              "var x = new MutationObserver(function (mutations, observer) {{\n",
              "        var display = window.getComputedStyle(gd).display;\n",
              "        if (!display || display === 'none') {{\n",
              "            console.log([gd, 'removed!']);\n",
              "            Plotly.purge(gd);\n",
              "            observer.disconnect();\n",
              "        }}\n",
              "}});\n",
              "\n",
              "// Listen for the removal of the full notebook cells\n",
              "var notebookContainer = gd.closest('#notebook-container');\n",
              "if (notebookContainer) {{\n",
              "    x.observe(notebookContainer, {childList: true});\n",
              "}}\n",
              "\n",
              "// Listen for the clearing of the current output cell\n",
              "var outputEl = gd.closest('.output');\n",
              "if (outputEl) {{\n",
              "    x.observe(outputEl, {childList: true});\n",
              "}}\n",
              "\n",
              "                        })                };                            </script>        </div>\n",
              "</body>\n",
              "</html>"
            ]
          },
          "metadata": {}
        }
      ]
    },
    {
      "cell_type": "code",
      "source": [
        "#segundo por soma do valor de repasse de operações\n",
        "\n",
        "\n",
        "#criar dataframes de origem e destino\n",
        "df2 = df1.groupby(['STATUS_ASSINATURA', 'STATUS_SUSPENSIVA'])['VL_REPASSE_CONV'].sum().reset_index()\n",
        "df2.columns = ['source', 'target', 'value']\n",
        "df3 = df1.groupby(['STATUS_SUSPENSIVA', 'STATUS_VRPL'])['VL_REPASSE_CONV'].sum().reset_index()\n",
        "df3.columns = ['source', 'target', 'value']\n",
        "df4 = df1.groupby(['STATUS_VRPL', 'STATUS_AIO'])['VL_REPASSE_CONV'].sum().reset_index()\n",
        "df4.columns = ['source', 'target', 'value']\n",
        "df5 = df1.groupby(['STATUS_AIO', 'STATUS_FINALIZACAO'])['VL_REPASSE_CONV'].sum().reset_index()\n",
        "df5.columns = ['source', 'target', 'value']\n",
        "\n",
        "links = pd.concat([df2, df3, df4, df5], axis=0)\n",
        "\n",
        "#criando lista de valores unicos de situações\n",
        "unique_source_target = list(pd.unique(links[['source', 'target']].values.ravel('K')))\n",
        "\n",
        "#criando dicionário atribuindo um número para cada valor único de situação\n",
        "mapping_dict = {k: v for v, k in enumerate(unique_source_target)}\n",
        "\n",
        "#transformando a links em valores atribuidos no dicionario\n",
        "links['source'] = links['source'].map(mapping_dict)\n",
        "links['target'] = links['target'].map(mapping_dict)\n",
        "\n",
        "#criando link em formato lista para usar no fig =\n",
        "links_dict = links.to_dict(orient='list')\n",
        "\n",
        "#criando figura\n",
        "fig = go.Figure(data=[go.Sankey(\n",
        "    node = dict(\n",
        "      pad = 15,\n",
        "      thickness = 20,\n",
        "      line = dict(color = \"black\", width = 0.5),\n",
        "      label = unique_source_target,\n",
        "      color = \"blue\"\n",
        "    ),\n",
        "    link = dict(\n",
        "      source = links_dict[\"source\"],\n",
        "      target = links_dict[\"target\"],\n",
        "      value = links_dict[\"value\"]\n",
        "\n",
        "  ))])\n",
        "\n",
        "\n",
        "\n",
        "# Customize the layout of the Sankey diagram, including the title\n",
        "fig.update_layout(\n",
        "    title_text=\"Diagrama de Sankey - Contratos de Repassse no portal TrasfereGOV - Soma de valor de repasse\",\n",
        "    font_size=10,\n",
        ")\n",
        "\n",
        "fig.show()"
      ],
      "metadata": {
        "colab": {
          "base_uri": "https://localhost:8080/",
          "height": 542
        },
        "id": "PfQUD5bPGQSB",
        "outputId": "088256f1-bdff-4907-8cee-9d48d3a0adbf"
      },
      "execution_count": null,
      "outputs": [
        {
          "output_type": "display_data",
          "data": {
            "text/html": [
              "<html>\n",
              "<head><meta charset=\"utf-8\" /></head>\n",
              "<body>\n",
              "    <div>            <script src=\"https://cdnjs.cloudflare.com/ajax/libs/mathjax/2.7.5/MathJax.js?config=TeX-AMS-MML_SVG\"></script><script type=\"text/javascript\">if (window.MathJax && window.MathJax.Hub && window.MathJax.Hub.Config) {window.MathJax.Hub.Config({SVG: {font: \"STIX-Web\"}});}</script>                <script type=\"text/javascript\">window.PlotlyConfig = {MathJaxConfig: 'local'};</script>\n",
              "        <script charset=\"utf-8\" src=\"https://cdn.plot.ly/plotly-2.24.1.min.js\"></script>                <div id=\"f341ebad-16d1-4ef4-957c-d5825fae06ff\" class=\"plotly-graph-div\" style=\"height:525px; width:100%;\"></div>            <script type=\"text/javascript\">                                    window.PLOTLYENV=window.PLOTLYENV || {};                                    if (document.getElementById(\"f341ebad-16d1-4ef4-957c-d5825fae06ff\")) {                    Plotly.newPlot(                        \"f341ebad-16d1-4ef4-957c-d5825fae06ff\",                        [{\"link\":{\"source\":[0,0,0,0,0,1,2,3,3,4,4,5,5,5,5,6,7,8,9,9,10,10,10,11,11,11,12,13,13],\"target\":[1,2,3,4,5,6,7,7,8,8,9,6,7,8,9,11,12,13,10,11,14,15,16,14,15,16,16,14,15],\"value\":[6732336029.0,154133776.0,5465784817.0,2928214845.0,41268564360.0,6732336029.0,154133776.0,5143310047.0,322474770.0,2921453696.0,6761149.0,5371542751.0,1389807757.0,24446195635.0,10061018217.0,12103878780.0,6687251580.0,27690124101.0,8666428571.0,1401350795.0,7413886247.0,1252542324.0,0.0,13466040026.0,23072137.0,16117412.0,6687251580.0,3422347139.0,24267776962.0]},\"node\":{\"color\":\"blue\",\"label\":[\"Contrato assinado\",\"Aguarda retirada de suspensiva\",\"Finalizado sem sucesso \",\"Prazo de suspensiva perdido\",\"Sem info de Suspensiva\",\"Suspensiva retirada\",\"Aguarda VRPL\",\"Finalizado sem sucesso  \",\"Sem info de VRPL\",\"VRPL emitida\",\"AIO emitida\",\"Aguarda AIO\",\"Finalizado sem sucesso   \",\"Sem info de AIO\",\"Contrato em andamento\",\"Finalizado com sucesso\",\"Finalizado sem sucesso\"],\"line\":{\"color\":\"black\",\"width\":0.5},\"pad\":15,\"thickness\":20},\"type\":\"sankey\"}],                        {\"template\":{\"data\":{\"histogram2dcontour\":[{\"type\":\"histogram2dcontour\",\"colorbar\":{\"outlinewidth\":0,\"ticks\":\"\"},\"colorscale\":[[0.0,\"#0d0887\"],[0.1111111111111111,\"#46039f\"],[0.2222222222222222,\"#7201a8\"],[0.3333333333333333,\"#9c179e\"],[0.4444444444444444,\"#bd3786\"],[0.5555555555555556,\"#d8576b\"],[0.6666666666666666,\"#ed7953\"],[0.7777777777777778,\"#fb9f3a\"],[0.8888888888888888,\"#fdca26\"],[1.0,\"#f0f921\"]]}],\"choropleth\":[{\"type\":\"choropleth\",\"colorbar\":{\"outlinewidth\":0,\"ticks\":\"\"}}],\"histogram2d\":[{\"type\":\"histogram2d\",\"colorbar\":{\"outlinewidth\":0,\"ticks\":\"\"},\"colorscale\":[[0.0,\"#0d0887\"],[0.1111111111111111,\"#46039f\"],[0.2222222222222222,\"#7201a8\"],[0.3333333333333333,\"#9c179e\"],[0.4444444444444444,\"#bd3786\"],[0.5555555555555556,\"#d8576b\"],[0.6666666666666666,\"#ed7953\"],[0.7777777777777778,\"#fb9f3a\"],[0.8888888888888888,\"#fdca26\"],[1.0,\"#f0f921\"]]}],\"heatmap\":[{\"type\":\"heatmap\",\"colorbar\":{\"outlinewidth\":0,\"ticks\":\"\"},\"colorscale\":[[0.0,\"#0d0887\"],[0.1111111111111111,\"#46039f\"],[0.2222222222222222,\"#7201a8\"],[0.3333333333333333,\"#9c179e\"],[0.4444444444444444,\"#bd3786\"],[0.5555555555555556,\"#d8576b\"],[0.6666666666666666,\"#ed7953\"],[0.7777777777777778,\"#fb9f3a\"],[0.8888888888888888,\"#fdca26\"],[1.0,\"#f0f921\"]]}],\"heatmapgl\":[{\"type\":\"heatmapgl\",\"colorbar\":{\"outlinewidth\":0,\"ticks\":\"\"},\"colorscale\":[[0.0,\"#0d0887\"],[0.1111111111111111,\"#46039f\"],[0.2222222222222222,\"#7201a8\"],[0.3333333333333333,\"#9c179e\"],[0.4444444444444444,\"#bd3786\"],[0.5555555555555556,\"#d8576b\"],[0.6666666666666666,\"#ed7953\"],[0.7777777777777778,\"#fb9f3a\"],[0.8888888888888888,\"#fdca26\"],[1.0,\"#f0f921\"]]}],\"contourcarpet\":[{\"type\":\"contourcarpet\",\"colorbar\":{\"outlinewidth\":0,\"ticks\":\"\"}}],\"contour\":[{\"type\":\"contour\",\"colorbar\":{\"outlinewidth\":0,\"ticks\":\"\"},\"colorscale\":[[0.0,\"#0d0887\"],[0.1111111111111111,\"#46039f\"],[0.2222222222222222,\"#7201a8\"],[0.3333333333333333,\"#9c179e\"],[0.4444444444444444,\"#bd3786\"],[0.5555555555555556,\"#d8576b\"],[0.6666666666666666,\"#ed7953\"],[0.7777777777777778,\"#fb9f3a\"],[0.8888888888888888,\"#fdca26\"],[1.0,\"#f0f921\"]]}],\"surface\":[{\"type\":\"surface\",\"colorbar\":{\"outlinewidth\":0,\"ticks\":\"\"},\"colorscale\":[[0.0,\"#0d0887\"],[0.1111111111111111,\"#46039f\"],[0.2222222222222222,\"#7201a8\"],[0.3333333333333333,\"#9c179e\"],[0.4444444444444444,\"#bd3786\"],[0.5555555555555556,\"#d8576b\"],[0.6666666666666666,\"#ed7953\"],[0.7777777777777778,\"#fb9f3a\"],[0.8888888888888888,\"#fdca26\"],[1.0,\"#f0f921\"]]}],\"mesh3d\":[{\"type\":\"mesh3d\",\"colorbar\":{\"outlinewidth\":0,\"ticks\":\"\"}}],\"scatter\":[{\"fillpattern\":{\"fillmode\":\"overlay\",\"size\":10,\"solidity\":0.2},\"type\":\"scatter\"}],\"parcoords\":[{\"type\":\"parcoords\",\"line\":{\"colorbar\":{\"outlinewidth\":0,\"ticks\":\"\"}}}],\"scatterpolargl\":[{\"type\":\"scatterpolargl\",\"marker\":{\"colorbar\":{\"outlinewidth\":0,\"ticks\":\"\"}}}],\"bar\":[{\"error_x\":{\"color\":\"#2a3f5f\"},\"error_y\":{\"color\":\"#2a3f5f\"},\"marker\":{\"line\":{\"color\":\"#E5ECF6\",\"width\":0.5},\"pattern\":{\"fillmode\":\"overlay\",\"size\":10,\"solidity\":0.2}},\"type\":\"bar\"}],\"scattergeo\":[{\"type\":\"scattergeo\",\"marker\":{\"colorbar\":{\"outlinewidth\":0,\"ticks\":\"\"}}}],\"scatterpolar\":[{\"type\":\"scatterpolar\",\"marker\":{\"colorbar\":{\"outlinewidth\":0,\"ticks\":\"\"}}}],\"histogram\":[{\"marker\":{\"pattern\":{\"fillmode\":\"overlay\",\"size\":10,\"solidity\":0.2}},\"type\":\"histogram\"}],\"scattergl\":[{\"type\":\"scattergl\",\"marker\":{\"colorbar\":{\"outlinewidth\":0,\"ticks\":\"\"}}}],\"scatter3d\":[{\"type\":\"scatter3d\",\"line\":{\"colorbar\":{\"outlinewidth\":0,\"ticks\":\"\"}},\"marker\":{\"colorbar\":{\"outlinewidth\":0,\"ticks\":\"\"}}}],\"scattermapbox\":[{\"type\":\"scattermapbox\",\"marker\":{\"colorbar\":{\"outlinewidth\":0,\"ticks\":\"\"}}}],\"scatterternary\":[{\"type\":\"scatterternary\",\"marker\":{\"colorbar\":{\"outlinewidth\":0,\"ticks\":\"\"}}}],\"scattercarpet\":[{\"type\":\"scattercarpet\",\"marker\":{\"colorbar\":{\"outlinewidth\":0,\"ticks\":\"\"}}}],\"carpet\":[{\"aaxis\":{\"endlinecolor\":\"#2a3f5f\",\"gridcolor\":\"white\",\"linecolor\":\"white\",\"minorgridcolor\":\"white\",\"startlinecolor\":\"#2a3f5f\"},\"baxis\":{\"endlinecolor\":\"#2a3f5f\",\"gridcolor\":\"white\",\"linecolor\":\"white\",\"minorgridcolor\":\"white\",\"startlinecolor\":\"#2a3f5f\"},\"type\":\"carpet\"}],\"table\":[{\"cells\":{\"fill\":{\"color\":\"#EBF0F8\"},\"line\":{\"color\":\"white\"}},\"header\":{\"fill\":{\"color\":\"#C8D4E3\"},\"line\":{\"color\":\"white\"}},\"type\":\"table\"}],\"barpolar\":[{\"marker\":{\"line\":{\"color\":\"#E5ECF6\",\"width\":0.5},\"pattern\":{\"fillmode\":\"overlay\",\"size\":10,\"solidity\":0.2}},\"type\":\"barpolar\"}],\"pie\":[{\"automargin\":true,\"type\":\"pie\"}]},\"layout\":{\"autotypenumbers\":\"strict\",\"colorway\":[\"#636efa\",\"#EF553B\",\"#00cc96\",\"#ab63fa\",\"#FFA15A\",\"#19d3f3\",\"#FF6692\",\"#B6E880\",\"#FF97FF\",\"#FECB52\"],\"font\":{\"color\":\"#2a3f5f\"},\"hovermode\":\"closest\",\"hoverlabel\":{\"align\":\"left\"},\"paper_bgcolor\":\"white\",\"plot_bgcolor\":\"#E5ECF6\",\"polar\":{\"bgcolor\":\"#E5ECF6\",\"angularaxis\":{\"gridcolor\":\"white\",\"linecolor\":\"white\",\"ticks\":\"\"},\"radialaxis\":{\"gridcolor\":\"white\",\"linecolor\":\"white\",\"ticks\":\"\"}},\"ternary\":{\"bgcolor\":\"#E5ECF6\",\"aaxis\":{\"gridcolor\":\"white\",\"linecolor\":\"white\",\"ticks\":\"\"},\"baxis\":{\"gridcolor\":\"white\",\"linecolor\":\"white\",\"ticks\":\"\"},\"caxis\":{\"gridcolor\":\"white\",\"linecolor\":\"white\",\"ticks\":\"\"}},\"coloraxis\":{\"colorbar\":{\"outlinewidth\":0,\"ticks\":\"\"}},\"colorscale\":{\"sequential\":[[0.0,\"#0d0887\"],[0.1111111111111111,\"#46039f\"],[0.2222222222222222,\"#7201a8\"],[0.3333333333333333,\"#9c179e\"],[0.4444444444444444,\"#bd3786\"],[0.5555555555555556,\"#d8576b\"],[0.6666666666666666,\"#ed7953\"],[0.7777777777777778,\"#fb9f3a\"],[0.8888888888888888,\"#fdca26\"],[1.0,\"#f0f921\"]],\"sequentialminus\":[[0.0,\"#0d0887\"],[0.1111111111111111,\"#46039f\"],[0.2222222222222222,\"#7201a8\"],[0.3333333333333333,\"#9c179e\"],[0.4444444444444444,\"#bd3786\"],[0.5555555555555556,\"#d8576b\"],[0.6666666666666666,\"#ed7953\"],[0.7777777777777778,\"#fb9f3a\"],[0.8888888888888888,\"#fdca26\"],[1.0,\"#f0f921\"]],\"diverging\":[[0,\"#8e0152\"],[0.1,\"#c51b7d\"],[0.2,\"#de77ae\"],[0.3,\"#f1b6da\"],[0.4,\"#fde0ef\"],[0.5,\"#f7f7f7\"],[0.6,\"#e6f5d0\"],[0.7,\"#b8e186\"],[0.8,\"#7fbc41\"],[0.9,\"#4d9221\"],[1,\"#276419\"]]},\"xaxis\":{\"gridcolor\":\"white\",\"linecolor\":\"white\",\"ticks\":\"\",\"title\":{\"standoff\":15},\"zerolinecolor\":\"white\",\"automargin\":true,\"zerolinewidth\":2},\"yaxis\":{\"gridcolor\":\"white\",\"linecolor\":\"white\",\"ticks\":\"\",\"title\":{\"standoff\":15},\"zerolinecolor\":\"white\",\"automargin\":true,\"zerolinewidth\":2},\"scene\":{\"xaxis\":{\"backgroundcolor\":\"#E5ECF6\",\"gridcolor\":\"white\",\"linecolor\":\"white\",\"showbackground\":true,\"ticks\":\"\",\"zerolinecolor\":\"white\",\"gridwidth\":2},\"yaxis\":{\"backgroundcolor\":\"#E5ECF6\",\"gridcolor\":\"white\",\"linecolor\":\"white\",\"showbackground\":true,\"ticks\":\"\",\"zerolinecolor\":\"white\",\"gridwidth\":2},\"zaxis\":{\"backgroundcolor\":\"#E5ECF6\",\"gridcolor\":\"white\",\"linecolor\":\"white\",\"showbackground\":true,\"ticks\":\"\",\"zerolinecolor\":\"white\",\"gridwidth\":2}},\"shapedefaults\":{\"line\":{\"color\":\"#2a3f5f\"}},\"annotationdefaults\":{\"arrowcolor\":\"#2a3f5f\",\"arrowhead\":0,\"arrowwidth\":1},\"geo\":{\"bgcolor\":\"white\",\"landcolor\":\"#E5ECF6\",\"subunitcolor\":\"white\",\"showland\":true,\"showlakes\":true,\"lakecolor\":\"white\"},\"title\":{\"x\":0.05},\"mapbox\":{\"style\":\"light\"}}},\"title\":{\"text\":\"Diagrama de Sankey - Contratos de Repassse no portal TrasfereGOV - Soma de valor de repasse\"},\"font\":{\"size\":10}},                        {\"responsive\": true}                    ).then(function(){\n",
              "                            \n",
              "var gd = document.getElementById('f341ebad-16d1-4ef4-957c-d5825fae06ff');\n",
              "var x = new MutationObserver(function (mutations, observer) {{\n",
              "        var display = window.getComputedStyle(gd).display;\n",
              "        if (!display || display === 'none') {{\n",
              "            console.log([gd, 'removed!']);\n",
              "            Plotly.purge(gd);\n",
              "            observer.disconnect();\n",
              "        }}\n",
              "}});\n",
              "\n",
              "// Listen for the removal of the full notebook cells\n",
              "var notebookContainer = gd.closest('#notebook-container');\n",
              "if (notebookContainer) {{\n",
              "    x.observe(notebookContainer, {childList: true});\n",
              "}}\n",
              "\n",
              "// Listen for the clearing of the current output cell\n",
              "var outputEl = gd.closest('.output');\n",
              "if (outputEl) {{\n",
              "    x.observe(outputEl, {childList: true});\n",
              "}}\n",
              "\n",
              "                        })                };                            </script>        </div>\n",
              "</body>\n",
              "</html>"
            ]
          },
          "metadata": {}
        }
      ]
    }
  ],
  "metadata": {
    "colab": {
      "provenance": [],
      "authorship_tag": "ABX9TyP/PvBM+OAef6r+5YBzoMOB",
      "include_colab_link": true
    },
    "kernelspec": {
      "display_name": "Python 3",
      "name": "python3"
    },
    "language_info": {
      "name": "python"
    }
  },
  "nbformat": 4,
  "nbformat_minor": 0
}